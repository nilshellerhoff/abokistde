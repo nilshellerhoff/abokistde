{
 "cells": [
  {
   "cell_type": "code",
   "execution_count": 2,
   "metadata": {},
   "outputs": [],
   "source": [
    "from django.contrib.auth.hashers import check_password, make_password\n",
    "from django.contrib.auth.hashers import PBKDF2PasswordHasher, BCryptSHA256PasswordHasher\n",
    "import hashlib\n",
    "import base64\n",
    "import os"
   ]
  },
  {
   "attachments": {},
   "cell_type": "markdown",
   "metadata": {},
   "source": [
    "Just testing stuff"
   ]
  },
  {
   "cell_type": "code",
   "execution_count": 3,
   "metadata": {},
   "outputs": [],
   "source": [
    "pw = \"test\"\n",
    "pw_hash = \"d0abe688ab963f10a128d208855488fb8e44fd50d333009badbb58777b1bd374\"\n",
    "salt = \"2ed489cb6954f9420be5510394b94c9e\""
   ]
  },
  {
   "cell_type": "code",
   "execution_count": 4,
   "metadata": {},
   "outputs": [
    {
     "name": "stdout",
     "output_type": "stream",
     "text": [
      "pbkdf2_sha256$100000$2ed489cb6954f9420be5510394b94c9e$0KvmiKuWPxChKNIIhVSI+45E/VDTMwCbrbtYd3sb03Q=\n",
      "pbkdf2_sha256$100000$2ed489cb6954f9420be5510394b94c9e$0KvmiKuWPxChKNIIhVSI+45E/VDTMwCbrbtYd3sb03Q=\n"
     ]
    }
   ],
   "source": [
    "pw_hash_b64 = base64.b64encode(int(pw_hash, 16).to_bytes(32, byteorder='big'))\n",
    "hash_new = \"pbkdf2_sha256$100000$\" + salt + \"$\" + pw_hash_b64.decode('utf-8')\n",
    "print(hash_new)\n",
    "\n",
    "hasher = PBKDF2PasswordHasher()\n",
    "hasher.iterations = 100000\n",
    "pw_hash_test = hasher.encode(pw, salt)\n",
    "\n",
    "print(pw_hash_test)"
   ]
  },
  {
   "attachments": {},
   "cell_type": "markdown",
   "metadata": {},
   "source": [
    "## Transform password from old to django"
   ]
  },
  {
   "cell_type": "code",
   "execution_count": 5,
   "metadata": {},
   "outputs": [
    {
     "name": "stdout",
     "output_type": "stream",
     "text": [
      "pbkdf2_sha256$100000$2ed489cb6954f9420be5510394b94c9e$0KvmiKuWPxChKNIIhVSI+45E/VDTMwCbrbtYd3sb03Q=\n"
     ]
    }
   ],
   "source": [
    "# old password hash as written in DB\n",
    "pw_hash = \"d0abe688ab963f10a128d208855488fb8e44fd50d333009badbb58777b1bd374\"\n",
    "\n",
    "# old salt as written in DB\n",
    "salt = \"2ed489cb6954f9420be5510394b94c9e\"\n",
    "\n",
    "pw_hash_b64 = base64.b64encode(int(pw_hash, 16).to_bytes(32, byteorder='big'))\n",
    "hash_new = \"pbkdf2_sha256$100000$\" + salt + \"$\" + pw_hash_b64.decode('utf-8')\n",
    "print(hash_new)"
   ]
  },
  {
   "cell_type": "code",
   "execution_count": null,
   "metadata": {},
   "outputs": [],
   "source": []
  }
 ],
 "metadata": {
  "kernelspec": {
   "display_name": "Python 3",
   "language": "python",
   "name": "python3"
  },
  "language_info": {
   "codemirror_mode": {
    "name": "ipython",
    "version": 3
   },
   "file_extension": ".py",
   "mimetype": "text/x-python",
   "name": "python",
   "nbconvert_exporter": "python",
   "pygments_lexer": "ipython3",
   "version": "3.10.6"
  },
  "orig_nbformat": 4,
  "vscode": {
   "interpreter": {
    "hash": "e7370f93d1d0cde622a1f8e1c04877d8463912d04d973331ad4851f04de6915a"
   }
  }
 },
 "nbformat": 4,
 "nbformat_minor": 2
}
